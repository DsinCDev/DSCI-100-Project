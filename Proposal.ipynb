{
 "cells": [
  {
   "cell_type": "markdown",
   "metadata": {},
   "source": [
    "# Group 18 Proposal - PROJECT NAME\n",
    "\n"
   ]
  },
  {
   "cell_type": "markdown",
   "metadata": {},
   "source": [
    "Dataset Link : http://archive.ics.uci.edu/ml/datasets/default+of+credit+card+clients"
   ]
  },
  {
   "cell_type": "markdown",
   "metadata": {},
   "source": [
    "### Introduction:\n",
    "When signing up for a credit card one receives a limit based on the card signed up for and credit score. Many struggle to manage their spendings, especially when financially independent. This is due to bills that need to be tracked if one is to pay off accrued credit card debt. Typically, those with higher education earn higher income and pay off credit card debt as well as having a higher credit limit. Those with lower education may earn less and struggle to pay back their debt while having a lower credit limit.\n",
    "Can we predict a person's education based on how much of their credit limit they spend and how much they pay back?\n",
    "We will use the \"default of credit card clients Data Set\" from UCI to answer this. Attributes included in the dataset are the amount of credit given, which includes an individual's credit limit, supplementary family credit, gender, education, marital status, age, payment history, amount of bill statement, and amount of previous payment.\n"
   ]
  },
  {
   "cell_type": "markdown",
   "metadata": {},
   "source": [
    "### Preliminary Exploratory Data Analysis:"
   ]
  },
  {
   "cell_type": "markdown",
   "metadata": {},
   "source": [
    "#### Dependencies and Packages:"
   ]
  },
  {
   "cell_type": "code",
   "execution_count": 75,
   "metadata": {},
   "outputs": [
    {
     "name": "stderr",
     "output_type": "stream",
     "text": [
      "Updating HTML index of packages in '.Library'\n",
      "\n",
      "Making 'packages.html' ...\n",
      " done\n",
      "\n"
     ]
    }
   ],
   "source": [
    "# RUN THIS FIRST\n",
    "install.packages('patchwork')\n",
    "library(readxl)\n",
    "library(tidyverse)\n",
    "library(repr)\n",
    "library(tidymodels)\n",
    "library(patchwork)"
   ]
  },
  {
   "cell_type": "markdown",
   "metadata": {},
   "source": [
    "#### Reading The Data From the Web:"
   ]
  },
  {
   "cell_type": "code",
   "execution_count": 77,
   "metadata": {},
   "outputs": [],
   "source": [
    "# Data from Citation #1\n",
    "temp <- tempfile()\n",
    "download.file(\"http://archive.ics.uci.edu/ml/machine-learning-databases/00350/default%20of%20credit%20card%20clients.xls\",temp)\n",
    "credit <- read_excel(temp,skip = 1)\n",
    "unlink(temp)"
   ]
  },
  {
   "cell_type": "code",
   "execution_count": 14,
   "metadata": {},
   "outputs": [
    {
     "data": {
      "text/html": [
       "<table>\n",
       "<caption>A tibble: 3 × 25</caption>\n",
       "<thead>\n",
       "\t<tr><th scope=col>ID</th><th scope=col>LIMIT_BAL</th><th scope=col>SEX</th><th scope=col>EDUCATION</th><th scope=col>MARRIAGE</th><th scope=col>AGE</th><th scope=col>PAY_0</th><th scope=col>PAY_2</th><th scope=col>PAY_3</th><th scope=col>PAY_4</th><th scope=col>⋯</th><th scope=col>BILL_AMT4</th><th scope=col>BILL_AMT5</th><th scope=col>BILL_AMT6</th><th scope=col>PAY_AMT1</th><th scope=col>PAY_AMT2</th><th scope=col>PAY_AMT3</th><th scope=col>PAY_AMT4</th><th scope=col>PAY_AMT5</th><th scope=col>PAY_AMT6</th><th scope=col>default payment next month</th></tr>\n",
       "\t<tr><th scope=col>&lt;dbl&gt;</th><th scope=col>&lt;dbl&gt;</th><th scope=col>&lt;dbl&gt;</th><th scope=col>&lt;dbl&gt;</th><th scope=col>&lt;dbl&gt;</th><th scope=col>&lt;dbl&gt;</th><th scope=col>&lt;dbl&gt;</th><th scope=col>&lt;dbl&gt;</th><th scope=col>&lt;dbl&gt;</th><th scope=col>&lt;dbl&gt;</th><th scope=col>⋯</th><th scope=col>&lt;dbl&gt;</th><th scope=col>&lt;dbl&gt;</th><th scope=col>&lt;dbl&gt;</th><th scope=col>&lt;dbl&gt;</th><th scope=col>&lt;dbl&gt;</th><th scope=col>&lt;dbl&gt;</th><th scope=col>&lt;dbl&gt;</th><th scope=col>&lt;dbl&gt;</th><th scope=col>&lt;dbl&gt;</th><th scope=col>&lt;dbl&gt;</th></tr>\n",
       "</thead>\n",
       "<tbody>\n",
       "\t<tr><td>1</td><td> 20000</td><td>2</td><td>2</td><td>1</td><td>24</td><td> 2</td><td>2</td><td>-1</td><td>-1</td><td>⋯</td><td>    0</td><td>    0</td><td>    0</td><td>   0</td><td> 689</td><td>   0</td><td>   0</td><td>   0</td><td>   0</td><td>1</td></tr>\n",
       "\t<tr><td>2</td><td>120000</td><td>2</td><td>2</td><td>2</td><td>26</td><td>-1</td><td>2</td><td> 0</td><td> 0</td><td>⋯</td><td> 3272</td><td> 3455</td><td> 3261</td><td>   0</td><td>1000</td><td>1000</td><td>1000</td><td>   0</td><td>2000</td><td>1</td></tr>\n",
       "\t<tr><td>3</td><td> 90000</td><td>2</td><td>2</td><td>2</td><td>34</td><td> 0</td><td>0</td><td> 0</td><td> 0</td><td>⋯</td><td>14331</td><td>14948</td><td>15549</td><td>1518</td><td>1500</td><td>1000</td><td>1000</td><td>1000</td><td>5000</td><td>0</td></tr>\n",
       "</tbody>\n",
       "</table>\n"
      ],
      "text/latex": [
       "A tibble: 3 × 25\n",
       "\\begin{tabular}{lllllllllllllllllllll}\n",
       " ID & LIMIT\\_BAL & SEX & EDUCATION & MARRIAGE & AGE & PAY\\_0 & PAY\\_2 & PAY\\_3 & PAY\\_4 & ⋯ & BILL\\_AMT4 & BILL\\_AMT5 & BILL\\_AMT6 & PAY\\_AMT1 & PAY\\_AMT2 & PAY\\_AMT3 & PAY\\_AMT4 & PAY\\_AMT5 & PAY\\_AMT6 & default payment next month\\\\\n",
       " <dbl> & <dbl> & <dbl> & <dbl> & <dbl> & <dbl> & <dbl> & <dbl> & <dbl> & <dbl> & ⋯ & <dbl> & <dbl> & <dbl> & <dbl> & <dbl> & <dbl> & <dbl> & <dbl> & <dbl> & <dbl>\\\\\n",
       "\\hline\n",
       "\t 1 &  20000 & 2 & 2 & 1 & 24 &  2 & 2 & -1 & -1 & ⋯ &     0 &     0 &     0 &    0 &  689 &    0 &    0 &    0 &    0 & 1\\\\\n",
       "\t 2 & 120000 & 2 & 2 & 2 & 26 & -1 & 2 &  0 &  0 & ⋯ &  3272 &  3455 &  3261 &    0 & 1000 & 1000 & 1000 &    0 & 2000 & 1\\\\\n",
       "\t 3 &  90000 & 2 & 2 & 2 & 34 &  0 & 0 &  0 &  0 & ⋯ & 14331 & 14948 & 15549 & 1518 & 1500 & 1000 & 1000 & 1000 & 5000 & 0\\\\\n",
       "\\end{tabular}\n"
      ],
      "text/markdown": [
       "\n",
       "A tibble: 3 × 25\n",
       "\n",
       "| ID &lt;dbl&gt; | LIMIT_BAL &lt;dbl&gt; | SEX &lt;dbl&gt; | EDUCATION &lt;dbl&gt; | MARRIAGE &lt;dbl&gt; | AGE &lt;dbl&gt; | PAY_0 &lt;dbl&gt; | PAY_2 &lt;dbl&gt; | PAY_3 &lt;dbl&gt; | PAY_4 &lt;dbl&gt; | ⋯ ⋯ | BILL_AMT4 &lt;dbl&gt; | BILL_AMT5 &lt;dbl&gt; | BILL_AMT6 &lt;dbl&gt; | PAY_AMT1 &lt;dbl&gt; | PAY_AMT2 &lt;dbl&gt; | PAY_AMT3 &lt;dbl&gt; | PAY_AMT4 &lt;dbl&gt; | PAY_AMT5 &lt;dbl&gt; | PAY_AMT6 &lt;dbl&gt; | default payment next month &lt;dbl&gt; |\n",
       "|---|---|---|---|---|---|---|---|---|---|---|---|---|---|---|---|---|---|---|---|---|\n",
       "| 1 |  20000 | 2 | 2 | 1 | 24 |  2 | 2 | -1 | -1 | ⋯ |     0 |     0 |     0 |    0 |  689 |    0 |    0 |    0 |    0 | 1 |\n",
       "| 2 | 120000 | 2 | 2 | 2 | 26 | -1 | 2 |  0 |  0 | ⋯ |  3272 |  3455 |  3261 |    0 | 1000 | 1000 | 1000 |    0 | 2000 | 1 |\n",
       "| 3 |  90000 | 2 | 2 | 2 | 34 |  0 | 0 |  0 |  0 | ⋯ | 14331 | 14948 | 15549 | 1518 | 1500 | 1000 | 1000 | 1000 | 5000 | 0 |\n",
       "\n"
      ],
      "text/plain": [
       "  ID LIMIT_BAL SEX EDUCATION MARRIAGE AGE PAY_0 PAY_2 PAY_3 PAY_4 ⋯ BILL_AMT4\n",
       "1 1   20000    2   2         1        24   2    2     -1    -1    ⋯     0    \n",
       "2 2  120000    2   2         2        26  -1    2      0     0    ⋯  3272    \n",
       "3 3   90000    2   2         2        34   0    0      0     0    ⋯ 14331    \n",
       "  BILL_AMT5 BILL_AMT6 PAY_AMT1 PAY_AMT2 PAY_AMT3 PAY_AMT4 PAY_AMT5 PAY_AMT6\n",
       "1     0         0        0      689        0        0        0        0    \n",
       "2  3455      3261        0     1000     1000     1000        0     2000    \n",
       "3 14948     15549     1518     1500     1000     1000     1000     5000    \n",
       "  default payment next month\n",
       "1 1                         \n",
       "2 1                         \n",
       "3 0                         "
      ]
     },
     "metadata": {},
     "output_type": "display_data"
    }
   ],
   "source": [
    "head(credit,n=3)"
   ]
  },
  {
   "cell_type": "markdown",
   "metadata": {},
   "source": [
    "#### Cleaning and Wrangling Data:\n",
    "- ```EDUCATION``` values can be observed to go up to 6, however they were only proper documentation in categorizing up to 4. Seeing as how 4 corresponds to \"other\" we have decided to only take education values from 1-3. \\\n",
    "Education (1 = graduate school; 2 = university; 3 = high school; 4 = others).\n",
    "- Some of the ```BILL_AMT``` vectors contained negative numbers. Negative balances are a rare occurence and only happen in strange circumstances so we will not be including them in our data set.\n",
    "- ```BILL_AVG``` represents on average, throughout the six months what fraction of their credit limit has a person racked up in bills.\n",
    "- Overall, the number of rows were reduced to 27636 from 30001 after cleaning and wrangling."
   ]
  },
  {
   "cell_type": "code",
   "execution_count": 98,
   "metadata": {},
   "outputs": [
    {
     "data": {
      "text/html": [
       "<table>\n",
       "<caption>A tibble: 27636 × 4</caption>\n",
       "<thead>\n",
       "\t<tr><th scope=col>ID</th><th scope=col>EDUCATION</th><th scope=col>PAY_AVG</th><th scope=col>BILL_AVG</th></tr>\n",
       "\t<tr><th scope=col>&lt;dbl&gt;</th><th scope=col>&lt;fct&gt;</th><th scope=col>&lt;dbl&gt;</th><th scope=col>&lt;dbl&gt;</th></tr>\n",
       "</thead>\n",
       "<tbody>\n",
       "\t<tr><td> 1</td><td>2</td><td>  114.8333</td><td>0.064200000</td></tr>\n",
       "\t<tr><td> 2</td><td>2</td><td>  833.3333</td><td>0.023718056</td></tr>\n",
       "\t<tr><td> 3</td><td>2</td><td> 1836.3333</td><td>0.188246296</td></tr>\n",
       "\t<tr><td> 4</td><td>2</td><td> 1398.0000</td><td>0.771113333</td></tr>\n",
       "\t<tr><td> 5</td><td>2</td><td> 9841.5000</td><td>0.364463333</td></tr>\n",
       "\t<tr><td> 6</td><td>1</td><td> 1295.3333</td><td>0.793713333</td></tr>\n",
       "\t<tr><td> 7</td><td>1</td><td>30126.5000</td><td>0.908198333</td></tr>\n",
       "\t<tr><td> 9</td><td>3</td><td> 1126.8333</td><td>0.077633333</td></tr>\n",
       "\t<tr><td>10</td><td>3</td><td> 2354.8333</td><td>0.224325000</td></tr>\n",
       "\t<tr><td>11</td><td>3</td><td> 1078.6667</td><td>0.028722500</td></tr>\n",
       "\t<tr><td>12</td><td>1</td><td>11051.3333</td><td>0.056646795</td></tr>\n",
       "\t<tr><td>13</td><td>2</td><td> 3895.0000</td><td>0.010848413</td></tr>\n",
       "\t<tr><td>14</td><td>2</td><td> 1783.3333</td><td>0.806392857</td></tr>\n",
       "\t<tr><td>15</td><td>1</td><td> 3000.0000</td><td>0.249060667</td></tr>\n",
       "\t<tr><td>16</td><td>3</td><td> 1033.3333</td><td>0.654720000</td></tr>\n",
       "\t<tr><td>17</td><td>1</td><td> 1058.3333</td><td>0.884675000</td></tr>\n",
       "\t<tr><td>18</td><td>1</td><td>60316.1667</td><td>0.503132292</td></tr>\n",
       "\t<tr><td>19</td><td>1</td><td>    0.0000</td><td>0.000000000</td></tr>\n",
       "\t<tr><td>20</td><td>1</td><td>    0.0000</td><td>0.000000000</td></tr>\n",
       "\t<tr><td>21</td><td>3</td><td> 7038.5000</td><td>0.158824359</td></tr>\n",
       "\t<tr><td>22</td><td>2</td><td>  263.3333</td><td>0.002633333</td></tr>\n",
       "\t<tr><td>23</td><td>2</td><td> 1835.0000</td><td>0.632083333</td></tr>\n",
       "\t<tr><td>24</td><td>1</td><td> 3764.8333</td><td>0.009987037</td></tr>\n",
       "\t<tr><td>25</td><td>1</td><td> 2733.3333</td><td>0.059007407</td></tr>\n",
       "\t<tr><td>26</td><td>3</td><td> 1315.1667</td><td>0.714316667</td></tr>\n",
       "\t<tr><td>28</td><td>3</td><td> 1185.3333</td><td>0.374226667</td></tr>\n",
       "\t<tr><td>29</td><td>3</td><td> 6594.5000</td><td>0.134026667</td></tr>\n",
       "\t<tr><td>30</td><td>1</td><td> 1100.0000</td><td>0.323606667</td></tr>\n",
       "\t<tr><td>31</td><td>1</td><td>16248.1667</td><td>0.082424638</td></tr>\n",
       "\t<tr><td>32</td><td>2</td><td> 1155.6667</td><td>0.506230000</td></tr>\n",
       "\t<tr><td>⋮</td><td>⋮</td><td>⋮</td><td>⋮</td></tr>\n",
       "\t<tr><td>29969</td><td>2</td><td> 3919.0000</td><td>0.729558333</td></tr>\n",
       "\t<tr><td>29970</td><td>2</td><td> 4165.5000</td><td>0.361634167</td></tr>\n",
       "\t<tr><td>29971</td><td>1</td><td>27018.3333</td><td>0.105359722</td></tr>\n",
       "\t<tr><td>29972</td><td>3</td><td> 2780.1667</td><td>0.864681250</td></tr>\n",
       "\t<tr><td>29973</td><td>1</td><td>32399.0000</td><td>0.215535965</td></tr>\n",
       "\t<tr><td>29974</td><td>2</td><td>    0.0000</td><td>0.000000000</td></tr>\n",
       "\t<tr><td>29975</td><td>2</td><td>  833.3333</td><td>0.101010000</td></tr>\n",
       "\t<tr><td>29976</td><td>2</td><td> 5335.3333</td><td>0.049084091</td></tr>\n",
       "\t<tr><td>29977</td><td>2</td><td> 1586.6667</td><td>1.275037500</td></tr>\n",
       "\t<tr><td>29978</td><td>1</td><td> 5933.3333</td><td>0.334586905</td></tr>\n",
       "\t<tr><td>29979</td><td>2</td><td> 9237.3333</td><td>0.729380108</td></tr>\n",
       "\t<tr><td>29980</td><td>1</td><td>    0.0000</td><td>0.000000000</td></tr>\n",
       "\t<tr><td>29981</td><td>3</td><td> 4750.0000</td><td>0.775143333</td></tr>\n",
       "\t<tr><td>29982</td><td>2</td><td>  934.1667</td><td>0.580196667</td></tr>\n",
       "\t<tr><td>29983</td><td>2</td><td> 1366.6667</td><td>0.120116667</td></tr>\n",
       "\t<tr><td>29984</td><td>2</td><td> 3548.0000</td><td>0.177016667</td></tr>\n",
       "\t<tr><td>29985</td><td>2</td><td> 2212.5000</td><td>0.063311111</td></tr>\n",
       "\t<tr><td>29986</td><td>1</td><td>    0.0000</td><td>0.000000000</td></tr>\n",
       "\t<tr><td>29987</td><td>1</td><td>    0.0000</td><td>0.001027778</td></tr>\n",
       "\t<tr><td>29988</td><td>1</td><td>18505.3333</td><td>0.451311538</td></tr>\n",
       "\t<tr><td>29989</td><td>1</td><td>16970.0000</td><td>0.917380000</td></tr>\n",
       "\t<tr><td>29991</td><td>2</td><td> 3788.8333</td><td>0.772184524</td></tr>\n",
       "\t<tr><td>29992</td><td>2</td><td>    0.0000</td><td>0.011904762</td></tr>\n",
       "\t<tr><td>29993</td><td>3</td><td>  333.3333</td><td>0.320033333</td></tr>\n",
       "\t<tr><td>29994</td><td>1</td><td>20797.3333</td><td>0.504280000</td></tr>\n",
       "\t<tr><td>29995</td><td>2</td><td> 3583.3333</td><td>0.981110417</td></tr>\n",
       "\t<tr><td>29996</td><td>3</td><td> 7091.6667</td><td>0.549506818</td></tr>\n",
       "\t<tr><td>29997</td><td>3</td><td> 2415.0000</td><td>0.023535556</td></tr>\n",
       "\t<tr><td>29998</td><td>2</td><td> 5216.6667</td><td>0.391644444</td></tr>\n",
       "\t<tr><td>30000</td><td>2</td><td> 1384.6667</td><td>0.769580000</td></tr>\n",
       "</tbody>\n",
       "</table>\n"
      ],
      "text/latex": [
       "A tibble: 27636 × 4\n",
       "\\begin{tabular}{llll}\n",
       " ID & EDUCATION & PAY\\_AVG & BILL\\_AVG\\\\\n",
       " <dbl> & <fct> & <dbl> & <dbl>\\\\\n",
       "\\hline\n",
       "\t  1 & 2 &   114.8333 & 0.064200000\\\\\n",
       "\t  2 & 2 &   833.3333 & 0.023718056\\\\\n",
       "\t  3 & 2 &  1836.3333 & 0.188246296\\\\\n",
       "\t  4 & 2 &  1398.0000 & 0.771113333\\\\\n",
       "\t  5 & 2 &  9841.5000 & 0.364463333\\\\\n",
       "\t  6 & 1 &  1295.3333 & 0.793713333\\\\\n",
       "\t  7 & 1 & 30126.5000 & 0.908198333\\\\\n",
       "\t  9 & 3 &  1126.8333 & 0.077633333\\\\\n",
       "\t 10 & 3 &  2354.8333 & 0.224325000\\\\\n",
       "\t 11 & 3 &  1078.6667 & 0.028722500\\\\\n",
       "\t 12 & 1 & 11051.3333 & 0.056646795\\\\\n",
       "\t 13 & 2 &  3895.0000 & 0.010848413\\\\\n",
       "\t 14 & 2 &  1783.3333 & 0.806392857\\\\\n",
       "\t 15 & 1 &  3000.0000 & 0.249060667\\\\\n",
       "\t 16 & 3 &  1033.3333 & 0.654720000\\\\\n",
       "\t 17 & 1 &  1058.3333 & 0.884675000\\\\\n",
       "\t 18 & 1 & 60316.1667 & 0.503132292\\\\\n",
       "\t 19 & 1 &     0.0000 & 0.000000000\\\\\n",
       "\t 20 & 1 &     0.0000 & 0.000000000\\\\\n",
       "\t 21 & 3 &  7038.5000 & 0.158824359\\\\\n",
       "\t 22 & 2 &   263.3333 & 0.002633333\\\\\n",
       "\t 23 & 2 &  1835.0000 & 0.632083333\\\\\n",
       "\t 24 & 1 &  3764.8333 & 0.009987037\\\\\n",
       "\t 25 & 1 &  2733.3333 & 0.059007407\\\\\n",
       "\t 26 & 3 &  1315.1667 & 0.714316667\\\\\n",
       "\t 28 & 3 &  1185.3333 & 0.374226667\\\\\n",
       "\t 29 & 3 &  6594.5000 & 0.134026667\\\\\n",
       "\t 30 & 1 &  1100.0000 & 0.323606667\\\\\n",
       "\t 31 & 1 & 16248.1667 & 0.082424638\\\\\n",
       "\t 32 & 2 &  1155.6667 & 0.506230000\\\\\n",
       "\t ⋮ & ⋮ & ⋮ & ⋮\\\\\n",
       "\t 29969 & 2 &  3919.0000 & 0.729558333\\\\\n",
       "\t 29970 & 2 &  4165.5000 & 0.361634167\\\\\n",
       "\t 29971 & 1 & 27018.3333 & 0.105359722\\\\\n",
       "\t 29972 & 3 &  2780.1667 & 0.864681250\\\\\n",
       "\t 29973 & 1 & 32399.0000 & 0.215535965\\\\\n",
       "\t 29974 & 2 &     0.0000 & 0.000000000\\\\\n",
       "\t 29975 & 2 &   833.3333 & 0.101010000\\\\\n",
       "\t 29976 & 2 &  5335.3333 & 0.049084091\\\\\n",
       "\t 29977 & 2 &  1586.6667 & 1.275037500\\\\\n",
       "\t 29978 & 1 &  5933.3333 & 0.334586905\\\\\n",
       "\t 29979 & 2 &  9237.3333 & 0.729380108\\\\\n",
       "\t 29980 & 1 &     0.0000 & 0.000000000\\\\\n",
       "\t 29981 & 3 &  4750.0000 & 0.775143333\\\\\n",
       "\t 29982 & 2 &   934.1667 & 0.580196667\\\\\n",
       "\t 29983 & 2 &  1366.6667 & 0.120116667\\\\\n",
       "\t 29984 & 2 &  3548.0000 & 0.177016667\\\\\n",
       "\t 29985 & 2 &  2212.5000 & 0.063311111\\\\\n",
       "\t 29986 & 1 &     0.0000 & 0.000000000\\\\\n",
       "\t 29987 & 1 &     0.0000 & 0.001027778\\\\\n",
       "\t 29988 & 1 & 18505.3333 & 0.451311538\\\\\n",
       "\t 29989 & 1 & 16970.0000 & 0.917380000\\\\\n",
       "\t 29991 & 2 &  3788.8333 & 0.772184524\\\\\n",
       "\t 29992 & 2 &     0.0000 & 0.011904762\\\\\n",
       "\t 29993 & 3 &   333.3333 & 0.320033333\\\\\n",
       "\t 29994 & 1 & 20797.3333 & 0.504280000\\\\\n",
       "\t 29995 & 2 &  3583.3333 & 0.981110417\\\\\n",
       "\t 29996 & 3 &  7091.6667 & 0.549506818\\\\\n",
       "\t 29997 & 3 &  2415.0000 & 0.023535556\\\\\n",
       "\t 29998 & 2 &  5216.6667 & 0.391644444\\\\\n",
       "\t 30000 & 2 &  1384.6667 & 0.769580000\\\\\n",
       "\\end{tabular}\n"
      ],
      "text/markdown": [
       "\n",
       "A tibble: 27636 × 4\n",
       "\n",
       "| ID &lt;dbl&gt; | EDUCATION &lt;fct&gt; | PAY_AVG &lt;dbl&gt; | BILL_AVG &lt;dbl&gt; |\n",
       "|---|---|---|---|\n",
       "|  1 | 2 |   114.8333 | 0.064200000 |\n",
       "|  2 | 2 |   833.3333 | 0.023718056 |\n",
       "|  3 | 2 |  1836.3333 | 0.188246296 |\n",
       "|  4 | 2 |  1398.0000 | 0.771113333 |\n",
       "|  5 | 2 |  9841.5000 | 0.364463333 |\n",
       "|  6 | 1 |  1295.3333 | 0.793713333 |\n",
       "|  7 | 1 | 30126.5000 | 0.908198333 |\n",
       "|  9 | 3 |  1126.8333 | 0.077633333 |\n",
       "| 10 | 3 |  2354.8333 | 0.224325000 |\n",
       "| 11 | 3 |  1078.6667 | 0.028722500 |\n",
       "| 12 | 1 | 11051.3333 | 0.056646795 |\n",
       "| 13 | 2 |  3895.0000 | 0.010848413 |\n",
       "| 14 | 2 |  1783.3333 | 0.806392857 |\n",
       "| 15 | 1 |  3000.0000 | 0.249060667 |\n",
       "| 16 | 3 |  1033.3333 | 0.654720000 |\n",
       "| 17 | 1 |  1058.3333 | 0.884675000 |\n",
       "| 18 | 1 | 60316.1667 | 0.503132292 |\n",
       "| 19 | 1 |     0.0000 | 0.000000000 |\n",
       "| 20 | 1 |     0.0000 | 0.000000000 |\n",
       "| 21 | 3 |  7038.5000 | 0.158824359 |\n",
       "| 22 | 2 |   263.3333 | 0.002633333 |\n",
       "| 23 | 2 |  1835.0000 | 0.632083333 |\n",
       "| 24 | 1 |  3764.8333 | 0.009987037 |\n",
       "| 25 | 1 |  2733.3333 | 0.059007407 |\n",
       "| 26 | 3 |  1315.1667 | 0.714316667 |\n",
       "| 28 | 3 |  1185.3333 | 0.374226667 |\n",
       "| 29 | 3 |  6594.5000 | 0.134026667 |\n",
       "| 30 | 1 |  1100.0000 | 0.323606667 |\n",
       "| 31 | 1 | 16248.1667 | 0.082424638 |\n",
       "| 32 | 2 |  1155.6667 | 0.506230000 |\n",
       "| ⋮ | ⋮ | ⋮ | ⋮ |\n",
       "| 29969 | 2 |  3919.0000 | 0.729558333 |\n",
       "| 29970 | 2 |  4165.5000 | 0.361634167 |\n",
       "| 29971 | 1 | 27018.3333 | 0.105359722 |\n",
       "| 29972 | 3 |  2780.1667 | 0.864681250 |\n",
       "| 29973 | 1 | 32399.0000 | 0.215535965 |\n",
       "| 29974 | 2 |     0.0000 | 0.000000000 |\n",
       "| 29975 | 2 |   833.3333 | 0.101010000 |\n",
       "| 29976 | 2 |  5335.3333 | 0.049084091 |\n",
       "| 29977 | 2 |  1586.6667 | 1.275037500 |\n",
       "| 29978 | 1 |  5933.3333 | 0.334586905 |\n",
       "| 29979 | 2 |  9237.3333 | 0.729380108 |\n",
       "| 29980 | 1 |     0.0000 | 0.000000000 |\n",
       "| 29981 | 3 |  4750.0000 | 0.775143333 |\n",
       "| 29982 | 2 |   934.1667 | 0.580196667 |\n",
       "| 29983 | 2 |  1366.6667 | 0.120116667 |\n",
       "| 29984 | 2 |  3548.0000 | 0.177016667 |\n",
       "| 29985 | 2 |  2212.5000 | 0.063311111 |\n",
       "| 29986 | 1 |     0.0000 | 0.000000000 |\n",
       "| 29987 | 1 |     0.0000 | 0.001027778 |\n",
       "| 29988 | 1 | 18505.3333 | 0.451311538 |\n",
       "| 29989 | 1 | 16970.0000 | 0.917380000 |\n",
       "| 29991 | 2 |  3788.8333 | 0.772184524 |\n",
       "| 29992 | 2 |     0.0000 | 0.011904762 |\n",
       "| 29993 | 3 |   333.3333 | 0.320033333 |\n",
       "| 29994 | 1 | 20797.3333 | 0.504280000 |\n",
       "| 29995 | 2 |  3583.3333 | 0.981110417 |\n",
       "| 29996 | 3 |  7091.6667 | 0.549506818 |\n",
       "| 29997 | 3 |  2415.0000 | 0.023535556 |\n",
       "| 29998 | 2 |  5216.6667 | 0.391644444 |\n",
       "| 30000 | 2 |  1384.6667 | 0.769580000 |\n",
       "\n"
      ],
      "text/plain": [
       "      ID    EDUCATION PAY_AVG    BILL_AVG   \n",
       "1      1    2           114.8333 0.064200000\n",
       "2      2    2           833.3333 0.023718056\n",
       "3      3    2          1836.3333 0.188246296\n",
       "4      4    2          1398.0000 0.771113333\n",
       "5      5    2          9841.5000 0.364463333\n",
       "6      6    1          1295.3333 0.793713333\n",
       "7      7    1         30126.5000 0.908198333\n",
       "8      9    3          1126.8333 0.077633333\n",
       "9     10    3          2354.8333 0.224325000\n",
       "10    11    3          1078.6667 0.028722500\n",
       "11    12    1         11051.3333 0.056646795\n",
       "12    13    2          3895.0000 0.010848413\n",
       "13    14    2          1783.3333 0.806392857\n",
       "14    15    1          3000.0000 0.249060667\n",
       "15    16    3          1033.3333 0.654720000\n",
       "16    17    1          1058.3333 0.884675000\n",
       "17    18    1         60316.1667 0.503132292\n",
       "18    19    1             0.0000 0.000000000\n",
       "19    20    1             0.0000 0.000000000\n",
       "20    21    3          7038.5000 0.158824359\n",
       "21    22    2           263.3333 0.002633333\n",
       "22    23    2          1835.0000 0.632083333\n",
       "23    24    1          3764.8333 0.009987037\n",
       "24    25    1          2733.3333 0.059007407\n",
       "25    26    3          1315.1667 0.714316667\n",
       "26    28    3          1185.3333 0.374226667\n",
       "27    29    3          6594.5000 0.134026667\n",
       "28    30    1          1100.0000 0.323606667\n",
       "29    31    1         16248.1667 0.082424638\n",
       "30    32    2          1155.6667 0.506230000\n",
       "⋮     ⋮     ⋮         ⋮          ⋮          \n",
       "27607 29969 2          3919.0000 0.729558333\n",
       "27608 29970 2          4165.5000 0.361634167\n",
       "27609 29971 1         27018.3333 0.105359722\n",
       "27610 29972 3          2780.1667 0.864681250\n",
       "27611 29973 1         32399.0000 0.215535965\n",
       "27612 29974 2             0.0000 0.000000000\n",
       "27613 29975 2           833.3333 0.101010000\n",
       "27614 29976 2          5335.3333 0.049084091\n",
       "27615 29977 2          1586.6667 1.275037500\n",
       "27616 29978 1          5933.3333 0.334586905\n",
       "27617 29979 2          9237.3333 0.729380108\n",
       "27618 29980 1             0.0000 0.000000000\n",
       "27619 29981 3          4750.0000 0.775143333\n",
       "27620 29982 2           934.1667 0.580196667\n",
       "27621 29983 2          1366.6667 0.120116667\n",
       "27622 29984 2          3548.0000 0.177016667\n",
       "27623 29985 2          2212.5000 0.063311111\n",
       "27624 29986 1             0.0000 0.000000000\n",
       "27625 29987 1             0.0000 0.001027778\n",
       "27626 29988 1         18505.3333 0.451311538\n",
       "27627 29989 1         16970.0000 0.917380000\n",
       "27628 29991 2          3788.8333 0.772184524\n",
       "27629 29992 2             0.0000 0.011904762\n",
       "27630 29993 3           333.3333 0.320033333\n",
       "27631 29994 1         20797.3333 0.504280000\n",
       "27632 29995 2          3583.3333 0.981110417\n",
       "27633 29996 3          7091.6667 0.549506818\n",
       "27634 29997 3          2415.0000 0.023535556\n",
       "27635 29998 2          5216.6667 0.391644444\n",
       "27636 30000 2          1384.6667 0.769580000"
      ]
     },
     "metadata": {},
     "output_type": "display_data"
    }
   ],
   "source": [
    "credit_rel <- credit %>%\n",
    "    select(ID, LIMIT_BAL, EDUCATION, PAY_AMT1:PAY_AMT6, BILL_AMT1:BILL_AMT6) %>%\n",
    "    filter(EDUCATION < 4, EDUCATION != 0) %>%\n",
    "    filter_all(all_vars(. >= 0)) %>%\n",
    "    mutate(PAY_AVG = (PAY_AMT1 + PAY_AMT2 + PAY_AMT3 + PAY_AMT4 + PAY_AMT5 + PAY_AMT6)/6,\n",
    "          BILL_AVG = (BILL_AMT1 + BILL_AMT2 + BILL_AMT3 + BILL_AMT4 + BILL_AMT5 + BILL_AMT6)/6,\n",
    "          BILL_AVG = BILL_AVG/LIMIT_BAL) %>%\n",
    "    select(ID,EDUCATION, PAY_AVG, BILL_AVG)\n",
    "credit_rel$EDUCATION <- as.factor(credit_rel$EDUCATION)\n",
    "credit_rel"
   ]
  },
  {
   "cell_type": "markdown",
   "metadata": {},
   "source": [
    "#### Splitting the Data\n",
    "- Since this dataset is sizeable (>27000 rows) the model is will be using a 60:40 training to testing split."
   ]
  },
  {
   "cell_type": "code",
   "execution_count": 94,
   "metadata": {},
   "outputs": [],
   "source": [
    "credit_split <- initial_split(credit_rel, prop = 0.6, strata = EDUCATION)\n",
    "credit_train <- training(credit_split)\n",
    "credit_test <- testing(credit_split)"
   ]
  },
  {
   "cell_type": "markdown",
   "metadata": {},
   "source": [
    "#### Tabular Exploratory Data Analysis:\n",
    "Upon initial tabular exploration, we see that majority of people in this dataset have finished university, followed by graduate school, then high school graduates. It can be observed that on average, higher education correlating to higher ```PAY_AVG```  and lower ```BILL_AVG``` values, meaning they pay more expensive bills and spent a lower fraction of their credit limit respectively."
   ]
  },
  {
   "cell_type": "code",
   "execution_count": 101,
   "metadata": {},
   "outputs": [
    {
     "name": "stderr",
     "output_type": "stream",
     "text": [
      "`summarise()` ungrouping output (override with `.groups` argument)\n",
      "\n"
     ]
    },
    {
     "data": {
      "text/html": [
       "<table>\n",
       "<caption>A tibble: 3 × 4</caption>\n",
       "<thead>\n",
       "\t<tr><th scope=col>EDUCATION</th><th scope=col>COUNT</th><th scope=col>PAY_AVG</th><th scope=col>BILL_AVG</th></tr>\n",
       "\t<tr><th scope=col>&lt;fct&gt;</th><th scope=col>&lt;int&gt;</th><th scope=col>&lt;dbl&gt;</th><th scope=col>&lt;dbl&gt;</th></tr>\n",
       "</thead>\n",
       "<tbody>\n",
       "\t<tr><td>1</td><td>5811</td><td>6341.242</td><td>0.3014183</td></tr>\n",
       "\t<tr><td>2</td><td>7982</td><td>4562.573</td><td>0.4390784</td></tr>\n",
       "\t<tr><td>3</td><td>2789</td><td>3865.813</td><td>0.4556747</td></tr>\n",
       "</tbody>\n",
       "</table>\n"
      ],
      "text/latex": [
       "A tibble: 3 × 4\n",
       "\\begin{tabular}{llll}\n",
       " EDUCATION & COUNT & PAY\\_AVG & BILL\\_AVG\\\\\n",
       " <fct> & <int> & <dbl> & <dbl>\\\\\n",
       "\\hline\n",
       "\t 1 & 5811 & 6341.242 & 0.3014183\\\\\n",
       "\t 2 & 7982 & 4562.573 & 0.4390784\\\\\n",
       "\t 3 & 2789 & 3865.813 & 0.4556747\\\\\n",
       "\\end{tabular}\n"
      ],
      "text/markdown": [
       "\n",
       "A tibble: 3 × 4\n",
       "\n",
       "| EDUCATION &lt;fct&gt; | COUNT &lt;int&gt; | PAY_AVG &lt;dbl&gt; | BILL_AVG &lt;dbl&gt; |\n",
       "|---|---|---|---|\n",
       "| 1 | 5811 | 6341.242 | 0.3014183 |\n",
       "| 2 | 7982 | 4562.573 | 0.4390784 |\n",
       "| 3 | 2789 | 3865.813 | 0.4556747 |\n",
       "\n"
      ],
      "text/plain": [
       "  EDUCATION COUNT PAY_AVG  BILL_AVG \n",
       "1 1         5811  6341.242 0.3014183\n",
       "2 2         7982  4562.573 0.4390784\n",
       "3 3         2789  3865.813 0.4556747"
      ]
     },
     "metadata": {},
     "output_type": "display_data"
    }
   ],
   "source": [
    "credit_edu <- credit_train %>%\n",
    "    group_by(EDUCATION) %>%\n",
    "    summarize(COUNT = n(), PAY_AVG = mean(PAY_AVG), BILL_AVG = mean(BILL_AVG))\n",
    "credit_edu"
   ]
  },
  {
   "cell_type": "markdown",
   "metadata": {},
   "source": [
    "#### Visual Exploratory Data Analysis:\n",
    "The visualization on the left tells us that a vast majority of people do not surpass their monthly credit limit, and most people spent between 0-10% of their credit limit. On the other hand, the plot on the right indicates that very few people pay over 4000 dollars back to their credit card company and vast majority pay less than 100 dollars."
   ]
  },
  {
   "cell_type": "code",
   "execution_count": 109,
   "metadata": {},
   "outputs": [
    {
     "name": "stderr",
     "output_type": "stream",
     "text": [
      "`stat_bin()` using `bins = 30`. Pick better value with `binwidth`.\n",
      "\n",
      "`stat_bin()` using `bins = 30`. Pick better value with `binwidth`.\n",
      "\n"
     ]
    },
    {
     "data": {
      "image/png": "[encoded data removed]",
      "text/plain": [
       "plot without title"
      ]
     },
     "metadata": {
      "image/png": {
       "height": 1200,
       "width": 1200
      }
     },
     "output_type": "display_data"
    }
   ],
   "source": [
    "options(repr.plot.width = 20, repr.plot.height = 20)\n",
    "\n",
    "bill_plot <- credit_train %>%\n",
    "    ggplot(aes(x=BILL_AVG)) +\n",
    "    geom_histogram(color='black',fill='light blue') +\n",
    "    labs(x='Proportion of Credit Limit Billed') +\n",
    "    ggtitle('Distribution of Proportion of Credit Limit Billed')\n",
    "pay_plot <- credit_train %>%\n",
    "    ggplot(aes(x=PAY_AVG)) +\n",
    "    geom_histogram(color='black',fill='pink') +\n",
    "    labs(x='Average Credit Paid per Month ($)') +\n",
    "    ggtitle('Distribution of Credit Paid per Month')\n",
    "bill_plot + pay_plot"
   ]
  },
  {
   "cell_type": "markdown",
   "metadata": {},
   "source": [
    "### Methods:\n",
    "We are predicting the education level of an individual based on their credit history, looking at the average amount of credit used by the individual (NT dollars) relative to their credit limit and the average amount paid (NT dollars). We will use columns “LIMIT_BAL” and “BILL_AMT*” (* = 1 to 6) to create the predictor “bill_avg”. Also, “PAY_AMT*” (* = 1 to 6) to create the predictor “paid_avg”. We will center and scale the data to ensure the data is tidy. We will convert “EDUCATION” to a categorical variable. Since we have a sufficiently large dataset (30,000 instances), we decided to partition it to 60% training and 40% testing as we believe there is enough data to fit the most appropriate model and evaluate it. We will create a recipe that uses the two predictors, and centers and scales the training data. We proceed to create a model specification with tuning on the number of neighbors, and perform a 5-fold cross-validation. We will then create a workflow analysis that adds the recipe and model specification, defines the tuning to 10 K values, and collects the metrics. We will use a line plot k vs accuracy to visualize and evaluate which k to choose. We can now train the data again by specifying how many neighbors and create a new workflow. Finally, we will use the final model to predict on the testing dataset, calculate the accuracy and the confusion matrix. \n",
    "Prior to fitting the model, we will create a scatterplot with “bill_avg” on the x-axis and “paid_avg” on the y-axis, points coloured by “EDUCATION”, to see how we might classify an observation based on first observation (row 1). To ensure points are different, we will check the distance between row 1 and row 2,  and row 1 and the row 500. We selected row 2 and row 500 since they have different education levels.\n"
   ]
  },
  {
   "cell_type": "markdown",
   "metadata": {},
   "source": [
    "### Expected outcomes and significance:\n",
    "We expect to find that individuals that spend less relative to their credit limit and pay back more will have higher education levels than those who spend more relative to their credit limit and pay back less. Verifying our prediction could highlight the importance of having an education and how it helps people maintain spending habits. Also, it could disclose information on the relationship between socioeconomic statuses and education. Furthermore,  one could investigate whether individuals with lower education levels will have a greater chance of struggling to repay debts in comparison to individuals with higher education levels. \n"
   ]
  },
  {
   "cell_type": "markdown",
   "metadata": {},
   "source": [
    "We expect to find that students with higher alcohol consumption levels and absences will have a higher chance of a failing grade in math compared\n",
    "to students with lower alcohol consumption levels and absences.\n",
    "\n",
    "Verifying our prediction could "
   ]
  },
  {
   "cell_type": "markdown",
   "metadata": {},
   "source": [
    "### Citations:\n",
    "1. Yeh, I. C., & Lien, C. H. (2009). The comparisons of data mining techniques for the predictive accuracy of probability of default of credit card clients. Expert Systems with Applications, 36(2), 2473-2480.\n"
   ]
  },
  {
   "cell_type": "markdown",
   "metadata": {},
   "source": []
  }
 ],
 "metadata": {
  "kernelspec": {
   "display_name": "R",
   "language": "R",
   "name": "ir"
  },
  "language_info": {
   "codemirror_mode": "r",
   "file_extension": ".r",
   "mimetype": "text/x-r-source",
   "name": "R",
   "pygments_lexer": "r",
   "version": "4.0.0"
  }
 },
 "nbformat": 4,
 "nbformat_minor": 4
}
